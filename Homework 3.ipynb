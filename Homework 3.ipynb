{
 "cells": [
  {
   "cell_type": "code",
   "execution_count": 4,
   "metadata": {},
   "outputs": [],
   "source": [
    "#Question 0\n",
    "marks= {\"Andy\":88, \"Amy\": 66, \"James\":90, \"Jules\":55, \"Arthur\":77}\n"
   ]
  },
  {
   "cell_type": "code",
   "execution_count": 97,
   "metadata": {
    "scrolled": true
   },
   "outputs": [
    {
     "name": "stdout",
     "output_type": "stream",
     "text": [
      "Student Name= Andy , Grade= 88\n",
      "Student Name= Amy , Grade= 66\n",
      "Student Name= James , Grade= 90\n",
      "Student Name= Jules , Grade= 55\n",
      "Student Name= Arthur , Grade= 77\n"
     ]
    }
   ],
   "source": [
    "#Question 1\n",
    "for k,v in marks.items():\n",
    "    print(\"Student Name=\",k,\", Grade=\",v)"
   ]
  },
  {
   "cell_type": "code",
   "execution_count": 96,
   "metadata": {},
   "outputs": [
    {
     "name": "stdout",
     "output_type": "stream",
     "text": [
      "The mean grade is 75.2 . The maximum grade is 90 . The minimum grade is 55 .\n"
     ]
    }
   ],
   "source": [
    "#Question 2\n",
    "import statistics\n",
    "for k,v in marks.items():\n",
    "    v= grades\n",
    "statistics.mean(grades)\n",
    "max(grades)\n",
    "min(grades)\n",
    "print(\"The mean grade is\", statistics.mean(grades),\".\",\n",
    "     \"The maximum grade is\", max(grades),\".\",\n",
    "     \"The minimum grade is\", min(grades),\".\")"
   ]
  },
  {
   "cell_type": "code",
   "execution_count": 64,
   "metadata": {},
   "outputs": [
    {
     "name": "stdout",
     "output_type": "stream",
     "text": [
      "Andy\n",
      "Amy\n"
     ]
    }
   ],
   "source": [
    "#Question 3\n",
    "for k,v in marks.items():\n",
    "    if \"J\" in k:\n",
    "        break\n",
    "    print(k)\n",
    "    "
   ]
  },
  {
   "cell_type": "code",
   "execution_count": 65,
   "metadata": {},
   "outputs": [
    {
     "name": "stdout",
     "output_type": "stream",
     "text": [
      "Andy\n",
      "Amy\n",
      "Arthur\n"
     ]
    }
   ],
   "source": [
    "#Question 4\n",
    "for k,v in marks.items():\n",
    "    if \"J\" in k:\n",
    "        continue\n",
    "    print(k)"
   ]
  },
  {
   "cell_type": "code",
   "execution_count": 98,
   "metadata": {},
   "outputs": [
    {
     "name": "stdout",
     "output_type": "stream",
     "text": [
      "88\n"
     ]
    }
   ],
   "source": [
    "#Question 5\n",
    "def gradefinder(student_name =\"\" ):\n",
    "    for student in marks:\n",
    "        if student == student_name:\n",
    "            print(marks[student])\n",
    "            break\n",
    "    else:\n",
    "        print(\"This student does not exist.\")\n",
    "        \n",
    "gradefinder(\"Andy\")    "
   ]
  }
 ],
 "metadata": {
  "kernelspec": {
   "display_name": "Python 3",
   "language": "python",
   "name": "python3"
  },
  "language_info": {
   "codemirror_mode": {
    "name": "ipython",
    "version": 3
   },
   "file_extension": ".py",
   "mimetype": "text/x-python",
   "name": "python",
   "nbconvert_exporter": "python",
   "pygments_lexer": "ipython3",
   "version": "3.7.6"
  }
 },
 "nbformat": 4,
 "nbformat_minor": 4
}
