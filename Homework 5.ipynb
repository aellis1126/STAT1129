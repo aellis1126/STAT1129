{
 "cells": [
  {
   "cell_type": "code",
   "execution_count": null,
   "metadata": {},
   "outputs": [],
   "source": [
    "#Question 1\n",
    "#a. I think this code will print 5:30"
   ]
  },
  {
   "cell_type": "code",
   "execution_count": 6,
   "metadata": {},
   "outputs": [
    {
     "name": "stdout",
     "output_type": "stream",
     "text": [
      "5:30\n"
     ]
    }
   ],
   "source": [
    "class Clock():\n",
    "    def __init__ (self,time):\n",
    "        self.time=time\n",
    "    def print_time(self):\n",
    "        time='6:30'\n",
    "        print(self.time)\n",
    "        \n",
    "clock = Clock('5:30')\n",
    "clock.print_time()"
   ]
  },
  {
   "cell_type": "code",
   "execution_count": null,
   "metadata": {},
   "outputs": [],
   "source": [
    "#b. This prints 5:30, and not 6:30, \n",
    "#because 5:30 is associate with the clock variable that is printing self. Adding the 5:30 nullifies the 6:30."
   ]
  },
  {
   "cell_type": "code",
   "execution_count": null,
   "metadata": {},
   "outputs": [],
   "source": [
    "#Question 2\n",
    "#a. I think this code will print 10:30"
   ]
  },
  {
   "cell_type": "code",
   "execution_count": 10,
   "metadata": {},
   "outputs": [
    {
     "name": "stdout",
     "output_type": "stream",
     "text": [
      "10:30\n"
     ]
    }
   ],
   "source": [
    "class Clock():\n",
    "    def __init__ (self,time):\n",
    "        self.time=time\n",
    "    def print_time(self, time):\n",
    "        print(time)\n",
    "        \n",
    "clock = Clock('5:30')\n",
    "clock.print_time('10:30')"
   ]
  },
  {
   "cell_type": "code",
   "execution_count": null,
   "metadata": {},
   "outputs": [],
   "source": [
    "#b It will take the parameters as the new variable value"
   ]
  },
  {
   "cell_type": "code",
   "execution_count": null,
   "metadata": {},
   "outputs": [],
   "source": [
    "#Question 3\n",
    "#a. I think this code will print 5:30 and 10:30, for the two places"
   ]
  },
  {
   "cell_type": "code",
   "execution_count": 11,
   "metadata": {},
   "outputs": [
    {
     "name": "stdout",
     "output_type": "stream",
     "text": [
      "5:30\n",
      "10:30\n"
     ]
    }
   ],
   "source": [
    "class Clock():\n",
    "    def __init__ (self,time):\n",
    "        self.time=time\n",
    "    def print_time (self):\n",
    "        print(self.time)\n",
    "        \n",
    "class Clock1(Clock):\n",
    "    pass\n",
    "\n",
    "boston_clock = Clock('5:30')\n",
    "paris_clock = Clock1('10:30')\n",
    "\n",
    "boston_clock.print_time()\n",
    "paris_clock.print_time()"
   ]
  },
  {
   "cell_type": "code",
   "execution_count": null,
   "metadata": {},
   "outputs": [],
   "source": [
    "#b. This prints two times because while the the two clocks are the same object, \n",
    "#we place an argument to pass through to the second input."
   ]
  },
  {
   "cell_type": "code",
   "execution_count": 17,
   "metadata": {
    "scrolled": true
   },
   "outputs": [
    {
     "name": "stdout",
     "output_type": "stream",
     "text": [
      "[]\n",
      "Queue is empty\n",
      "[1, 2, 3, 4]\n",
      "[]\n",
      "Queue is empty\n"
     ]
    }
   ],
   "source": [
    "#Question 4\n",
    "class Queue():\n",
    "    def __init__ (self):\n",
    "        self.items = []\n",
    "        \n",
    "    def isEmpty(self):\n",
    "        if self.items == []:\n",
    "            print(\"Queue is empty\")\n",
    "    \n",
    "    def enqueue(self, item):\n",
    "        self.items.append(item)\n",
    "        \n",
    "    def dequeue(self):\n",
    "        return self.items.pop(0)\n",
    "    \n",
    "    def size(self):\n",
    "        return len(self.items)\n",
    "    \n",
    "    def print_queue(self):\n",
    "        print(self.items)\n",
    "\n",
    "Q=Queue()\n",
    "\n",
    "Q.print_queue()\n",
    "Q.isEmpty()\n",
    "\n",
    "Q.enqueue(1)\n",
    "Q.enqueue(2)\n",
    "Q.enqueue(3)\n",
    "Q.enqueue(4)\n",
    "\n",
    "Q.print_queue()\n",
    "Q.isEmpty()\n",
    "\n",
    "Q.dequeue()\n",
    "Q.dequeue()\n",
    "Q.dequeue()\n",
    "Q.dequeue()\n",
    "\n",
    "Q.print_queue()\n",
    "Q.isEmpty()\n"
   ]
  }
 ],
 "metadata": {
  "kernelspec": {
   "display_name": "Python 3",
   "language": "python",
   "name": "python3"
  },
  "language_info": {
   "codemirror_mode": {
    "name": "ipython",
    "version": 3
   },
   "file_extension": ".py",
   "mimetype": "text/x-python",
   "name": "python",
   "nbconvert_exporter": "python",
   "pygments_lexer": "ipython3",
   "version": "3.7.6"
  }
 },
 "nbformat": 4,
 "nbformat_minor": 4
}
